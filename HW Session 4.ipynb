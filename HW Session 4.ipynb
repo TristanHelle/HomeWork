{
 "cells": [
  {
   "cell_type": "markdown",
   "id": "5c92cadd",
   "metadata": {},
   "source": [
    "Exercice 3 p198\n"
   ]
  },
  {
   "cell_type": "markdown",
   "id": "cb68c7df",
   "metadata": {},
   "source": [
    "A) k-fold validation is implemented by splitting the data set into k different sets. k-1 sets are used as training sets and the last one is used as a test set. To get the accuracy we calculate the average of all the training sets"
   ]
  },
  {
   "cell_type": "markdown",
   "id": "3bf43f9f",
   "metadata": {},
   "source": [
    "B) i) high sensitivity to outliers and higher results on test set than reality.\n",
    "    ii) very high computational needs as there are k = n folds. "
   ]
  },
  {
   "cell_type": "markdown",
   "id": "6c244271",
   "metadata": {},
   "source": [
    "Exercice 5 p 200"
   ]
  },
  {
   "cell_type": "code",
   "execution_count": 9,
   "id": "ae3b2cdb",
   "metadata": {},
   "outputs": [],
   "source": [
    "library(boot)"
   ]
  },
  {
   "cell_type": "code",
   "execution_count": 4,
   "id": "99e20b1c",
   "metadata": {},
   "outputs": [],
   "source": [
    "set.seed(1)\n",
    "y = rnorm(100)\n",
    "x = rnorm(100)\n",
    "y = x - 2 * x^2 + rnorm(100) # n=100 & p=2"
   ]
  },
  {
   "cell_type": "code",
   "execution_count": 7,
   "id": "c72e77b5",
   "metadata": {
    "scrolled": false
   },
   "outputs": [
    {
     "data": {
      "image/png": "[encoded data removed]",
      "text/plain": [
       "plot without title"
      ]
     },
     "metadata": {
      "image/png": {
       "height": 420,
       "width": 420
      }
     },
     "output_type": "display_data"
    }
   ],
   "source": [
    "plot(x, y)"
   ]
  },
  {
   "cell_type": "markdown",
   "id": "7460c54a",
   "metadata": {},
   "source": [
    "y is highest for x = 0 and gets lower towards -2 and 2 "
   ]
  },
  {
   "cell_type": "code",
   "execution_count": 12,
   "id": "df449977",
   "metadata": {},
   "outputs": [],
   "source": [
    "Data = data.frame(x, y)\n",
    "set.seed(1)"
   ]
  },
  {
   "cell_type": "code",
   "execution_count": 13,
   "id": "97218918",
   "metadata": {},
   "outputs": [
    {
     "data": {
      "text/html": [
       "<style>\n",
       ".list-inline {list-style: none; margin:0; padding: 0}\n",
       ".list-inline>li {display: inline-block}\n",
       ".list-inline>li:not(:last-child)::after {content: \"\\00b7\"; padding: 0 .5ex}\n",
       "</style>\n",
       "<ol class=list-inline><li>5.89097855988843</li><li>5.88881215196093</li></ol>\n"
      ],
      "text/latex": [
       "\\begin{enumerate*}\n",
       "\\item 5.89097855988843\n",
       "\\item 5.88881215196093\n",
       "\\end{enumerate*}\n"
      ],
      "text/markdown": [
       "1. 5.89097855988843\n",
       "2. 5.88881215196093\n",
       "\n",
       "\n"
      ],
      "text/plain": [
       "[1] 5.890979 5.888812"
      ]
     },
     "metadata": {},
     "output_type": "display_data"
    }
   ],
   "source": [
    "glm.fit = glm(y ~ x)\n",
    "cv.glm(Data, glm.fit)$delta"
   ]
  },
  {
   "cell_type": "code",
   "execution_count": 14,
   "id": "d07d60f9",
   "metadata": {},
   "outputs": [
    {
     "data": {
      "text/html": [
       "<style>\n",
       ".list-inline {list-style: none; margin:0; padding: 0}\n",
       ".list-inline>li {display: inline-block}\n",
       ".list-inline>li:not(:last-child)::after {content: \"\\00b7\"; padding: 0 .5ex}\n",
       "</style>\n",
       "<ol class=list-inline><li>1.0865955642745</li><li>1.08632580328877</li></ol>\n"
      ],
      "text/latex": [
       "\\begin{enumerate*}\n",
       "\\item 1.0865955642745\n",
       "\\item 1.08632580328877\n",
       "\\end{enumerate*}\n"
      ],
      "text/markdown": [
       "1. 1.0865955642745\n",
       "2. 1.08632580328877\n",
       "\n",
       "\n"
      ],
      "text/plain": [
       "[1] 1.086596 1.086326"
      ]
     },
     "metadata": {},
     "output_type": "display_data"
    }
   ],
   "source": [
    "glm.fit = glm(y ~ poly(x, 2))\n",
    "cv.glm(Data, glm.fit)$delta"
   ]
  },
  {
   "cell_type": "code",
   "execution_count": 15,
   "id": "4a0b761d",
   "metadata": {},
   "outputs": [
    {
     "data": {
      "text/html": [
       "<style>\n",
       ".list-inline {list-style: none; margin:0; padding: 0}\n",
       ".list-inline>li {display: inline-block}\n",
       ".list-inline>li:not(:last-child)::after {content: \"\\00b7\"; padding: 0 .5ex}\n",
       "</style>\n",
       "<ol class=list-inline><li>1.10258509387339</li><li>1.10222658385953</li></ol>\n"
      ],
      "text/latex": [
       "\\begin{enumerate*}\n",
       "\\item 1.10258509387339\n",
       "\\item 1.10222658385953\n",
       "\\end{enumerate*}\n"
      ],
      "text/markdown": [
       "1. 1.10258509387339\n",
       "2. 1.10222658385953\n",
       "\n",
       "\n"
      ],
      "text/plain": [
       "[1] 1.102585 1.102227"
      ]
     },
     "metadata": {},
     "output_type": "display_data"
    }
   ],
   "source": [
    "glm.fit = glm(y ~ poly(x, 3))\n",
    "cv.glm(Data, glm.fit)$delta"
   ]
  },
  {
   "cell_type": "code",
   "execution_count": 16,
   "id": "1bd729d7",
   "metadata": {},
   "outputs": [
    {
     "data": {
      "text/html": [
       "<style>\n",
       ".list-inline {list-style: none; margin:0; padding: 0}\n",
       ".list-inline>li {display: inline-block}\n",
       ".list-inline>li:not(:last-child)::after {content: \"\\00b7\"; padding: 0 .5ex}\n",
       "</style>\n",
       "<ol class=list-inline><li>1.11477226814507</li><li>1.11433406148513</li></ol>\n"
      ],
      "text/latex": [
       "\\begin{enumerate*}\n",
       "\\item 1.11477226814507\n",
       "\\item 1.11433406148513\n",
       "\\end{enumerate*}\n"
      ],
      "text/markdown": [
       "1. 1.11477226814507\n",
       "2. 1.11433406148513\n",
       "\n",
       "\n"
      ],
      "text/plain": [
       "[1] 1.114772 1.114334"
      ]
     },
     "metadata": {},
     "output_type": "display_data"
    }
   ],
   "source": [
    "glm.fit = glm(y ~ poly(x, 4))\n",
    "cv.glm(Data, glm.fit)$delta"
   ]
  },
  {
   "cell_type": "code",
   "execution_count": 24,
   "id": "02287541",
   "metadata": {},
   "outputs": [
    {
     "data": {
      "text/html": [
       "<style>\n",
       ".list-inline {list-style: none; margin:0; padding: 0}\n",
       ".list-inline>li {display: inline-block}\n",
       ".list-inline>li:not(:last-child)::after {content: \"\\00b7\"; padding: 0 .5ex}\n",
       "</style>\n",
       "<ol class=list-inline><li>5.89097855988842</li><li>5.88881215196093</li></ol>\n"
      ],
      "text/latex": [
       "\\begin{enumerate*}\n",
       "\\item 5.89097855988842\n",
       "\\item 5.88881215196093\n",
       "\\end{enumerate*}\n"
      ],
      "text/markdown": [
       "1. 5.89097855988842\n",
       "2. 5.88881215196093\n",
       "\n",
       "\n"
      ],
      "text/plain": [
       "[1] 5.890979 5.888812"
      ]
     },
     "metadata": {},
     "output_type": "display_data"
    },
    {
     "data": {
      "text/html": [
       "<style>\n",
       ".list-inline {list-style: none; margin:0; padding: 0}\n",
       ".list-inline>li {display: inline-block}\n",
       ".list-inline>li:not(:last-child)::after {content: \"\\00b7\"; padding: 0 .5ex}\n",
       "</style>\n",
       "<ol class=list-inline><li>1.0865955642745</li><li>1.08632580328877</li></ol>\n"
      ],
      "text/latex": [
       "\\begin{enumerate*}\n",
       "\\item 1.0865955642745\n",
       "\\item 1.08632580328877\n",
       "\\end{enumerate*}\n"
      ],
      "text/markdown": [
       "1. 1.0865955642745\n",
       "2. 1.08632580328877\n",
       "\n",
       "\n"
      ],
      "text/plain": [
       "[1] 1.086596 1.086326"
      ]
     },
     "metadata": {},
     "output_type": "display_data"
    },
    {
     "data": {
      "text/html": [
       "<style>\n",
       ".list-inline {list-style: none; margin:0; padding: 0}\n",
       ".list-inline>li {display: inline-block}\n",
       ".list-inline>li:not(:last-child)::after {content: \"\\00b7\"; padding: 0 .5ex}\n",
       "</style>\n",
       "<ol class=list-inline><li>1.10258509387339</li><li>1.10222658385953</li></ol>\n"
      ],
      "text/latex": [
       "\\begin{enumerate*}\n",
       "\\item 1.10258509387339\n",
       "\\item 1.10222658385953\n",
       "\\end{enumerate*}\n"
      ],
      "text/markdown": [
       "1. 1.10258509387339\n",
       "2. 1.10222658385953\n",
       "\n",
       "\n"
      ],
      "text/plain": [
       "[1] 1.102585 1.102227"
      ]
     },
     "metadata": {},
     "output_type": "display_data"
    },
    {
     "data": {
      "text/html": [
       "<style>\n",
       ".list-inline {list-style: none; margin:0; padding: 0}\n",
       ".list-inline>li {display: inline-block}\n",
       ".list-inline>li:not(:last-child)::after {content: \"\\00b7\"; padding: 0 .5ex}\n",
       "</style>\n",
       "<ol class=list-inline><li>1.11477226814508</li><li>1.11433406148513</li></ol>\n"
      ],
      "text/latex": [
       "\\begin{enumerate*}\n",
       "\\item 1.11477226814508\n",
       "\\item 1.11433406148513\n",
       "\\end{enumerate*}\n"
      ],
      "text/markdown": [
       "1. 1.11477226814508\n",
       "2. 1.11433406148513\n",
       "\n",
       "\n"
      ],
      "text/plain": [
       "[1] 1.114772 1.114334"
      ]
     },
     "metadata": {},
     "output_type": "display_data"
    }
   ],
   "source": [
    "set.seed(2)\n",
    "\n",
    "glm.fit = glm(y ~ x)\n",
    "cv.glm(Data, glm.fit)$delta\n",
    "\n",
    "glm.fit = glm(y ~ poly(x, 2))\n",
    "cv.glm(Data, glm.fit)$delta\n",
    "\n",
    "glm.fit = glm(y ~ poly(x, 3))\n",
    "cv.glm(Data, glm.fit)$delta\n",
    "\n",
    "glm.fit = glm(y ~ poly(x, 4))\n",
    "cv.glm(Data, glm.fit)$delta"
   ]
  },
  {
   "cell_type": "markdown",
   "id": "fa4ebf43",
   "metadata": {},
   "source": [
    "same results "
   ]
  },
  {
   "cell_type": "markdown",
   "id": "653227a2",
   "metadata": {},
   "source": [
    "the quadratic equation had the best results because it matches Y "
   ]
  },
  {
   "cell_type": "code",
   "execution_count": 26,
   "id": "3bade320",
   "metadata": {
    "scrolled": false
   },
   "outputs": [
    {
     "data": {
      "text/plain": [
       "\n",
       "Call:\n",
       "glm(formula = y ~ poly(x, 4))\n",
       "\n",
       "Deviance Residuals: \n",
       "    Min       1Q   Median       3Q      Max  \n",
       "-2.8914  -0.5244   0.0749   0.5932   2.7796  \n",
       "\n",
       "Coefficients:\n",
       "            Estimate Std. Error t value Pr(>|t|)    \n",
       "(Intercept)  -1.8277     0.1041 -17.549   <2e-16 ***\n",
       "poly(x, 4)1   2.3164     1.0415   2.224   0.0285 *  \n",
       "poly(x, 4)2 -21.0586     1.0415 -20.220   <2e-16 ***\n",
       "poly(x, 4)3  -0.3048     1.0415  -0.293   0.7704    \n",
       "poly(x, 4)4  -0.4926     1.0415  -0.473   0.6373    \n",
       "---\n",
       "Signif. codes:  0 '***' 0.001 '**' 0.01 '*' 0.05 '.' 0.1 ' ' 1\n",
       "\n",
       "(Dispersion parameter for gaussian family taken to be 1.084654)\n",
       "\n",
       "    Null deviance: 552.21  on 99  degrees of freedom\n",
       "Residual deviance: 103.04  on 95  degrees of freedom\n",
       "AIC: 298.78\n",
       "\n",
       "Number of Fisher Scoring iterations: 2\n"
      ]
     },
     "metadata": {},
     "output_type": "display_data"
    }
   ],
   "source": [
    "summary(glm.fit)"
   ]
  },
  {
   "cell_type": "markdown",
   "id": "621c68c4",
   "metadata": {},
   "source": [
    "poly1 & 2 are significant which is related to the quadratic form of the function Y "
   ]
  },
  {
   "cell_type": "markdown",
   "id": "d3e0acf6",
   "metadata": {},
   "source": [
    "Exercice 1 p 259:"
   ]
  },
  {
   "cell_type": "markdown",
   "id": "adbedb66",
   "metadata": {},
   "source": [
    "a) Best subset selection"
   ]
  },
  {
   "cell_type": "markdown",
   "id": "2e618888",
   "metadata": {},
   "source": [
    "b) Best subset selection"
   ]
  },
  {
   "cell_type": "markdown",
   "id": "de48a000",
   "metadata": {},
   "source": [
    "C) i.true\n",
    "ii.true\n",
    "iii.false\n",
    "iv.false \n",
    "v.false"
   ]
  },
  {
   "cell_type": "markdown",
   "id": "afbbb475",
   "metadata": {},
   "source": [
    "Exercice 9 p 263:"
   ]
  },
  {
   "cell_type": "code",
   "execution_count": 38,
   "id": "6e8b44a5",
   "metadata": {},
   "outputs": [
    {
     "name": "stderr",
     "output_type": "stream",
     "text": [
      "Loading required package: Matrix\n",
      "\n",
      "Loaded glmnet 4.1-2\n",
      "\n"
     ]
    }
   ],
   "source": [
    "library(glmnet)"
   ]
  },
  {
   "cell_type": "code",
   "execution_count": 28,
   "id": "969736e1",
   "metadata": {},
   "outputs": [],
   "source": [
    "library(ISLR)"
   ]
  },
  {
   "cell_type": "code",
   "execution_count": 47,
   "id": "1f55cb8f",
   "metadata": {},
   "outputs": [],
   "source": [
    "set.seed(11)"
   ]
  },
  {
   "cell_type": "code",
   "execution_count": 48,
   "id": "c0aea6ff",
   "metadata": {},
   "outputs": [
    {
     "data": {
      "text/html": [
       "<table class=\"dataframe\">\n",
       "<caption>A data.frame: 6 × 18</caption>\n",
       "<thead>\n",
       "\t<tr><th></th><th scope=col>Private</th><th scope=col>Apps</th><th scope=col>Accept</th><th scope=col>Enroll</th><th scope=col>Top10perc</th><th scope=col>Top25perc</th><th scope=col>F.Undergrad</th><th scope=col>P.Undergrad</th><th scope=col>Outstate</th><th scope=col>Room.Board</th><th scope=col>Books</th><th scope=col>Personal</th><th scope=col>PhD</th><th scope=col>Terminal</th><th scope=col>S.F.Ratio</th><th scope=col>perc.alumni</th><th scope=col>Expend</th><th scope=col>Grad.Rate</th></tr>\n",
       "\t<tr><th></th><th scope=col>&lt;fct&gt;</th><th scope=col>&lt;dbl&gt;</th><th scope=col>&lt;dbl&gt;</th><th scope=col>&lt;dbl&gt;</th><th scope=col>&lt;dbl&gt;</th><th scope=col>&lt;dbl&gt;</th><th scope=col>&lt;dbl&gt;</th><th scope=col>&lt;dbl&gt;</th><th scope=col>&lt;dbl&gt;</th><th scope=col>&lt;dbl&gt;</th><th scope=col>&lt;dbl&gt;</th><th scope=col>&lt;dbl&gt;</th><th scope=col>&lt;dbl&gt;</th><th scope=col>&lt;dbl&gt;</th><th scope=col>&lt;dbl&gt;</th><th scope=col>&lt;dbl&gt;</th><th scope=col>&lt;dbl&gt;</th><th scope=col>&lt;dbl&gt;</th></tr>\n",
       "</thead>\n",
       "<tbody>\n",
       "\t<tr><th scope=row>Abilene Christian University</th><td>Yes</td><td>1660</td><td>1232</td><td>721</td><td>23</td><td>52</td><td>2885</td><td> 537</td><td> 7440</td><td>3300</td><td>450</td><td>2200</td><td>70</td><td>78</td><td>18.1</td><td>12</td><td> 7041</td><td>60</td></tr>\n",
       "\t<tr><th scope=row>Adelphi University</th><td>Yes</td><td>2186</td><td>1924</td><td>512</td><td>16</td><td>29</td><td>2683</td><td>1227</td><td>12280</td><td>6450</td><td>750</td><td>1500</td><td>29</td><td>30</td><td>12.2</td><td>16</td><td>10527</td><td>56</td></tr>\n",
       "\t<tr><th scope=row>Adrian College</th><td>Yes</td><td>1428</td><td>1097</td><td>336</td><td>22</td><td>50</td><td>1036</td><td>  99</td><td>11250</td><td>3750</td><td>400</td><td>1165</td><td>53</td><td>66</td><td>12.9</td><td>30</td><td> 8735</td><td>54</td></tr>\n",
       "\t<tr><th scope=row>Agnes Scott College</th><td>Yes</td><td> 417</td><td> 349</td><td>137</td><td>60</td><td>89</td><td> 510</td><td>  63</td><td>12960</td><td>5450</td><td>450</td><td> 875</td><td>92</td><td>97</td><td> 7.7</td><td>37</td><td>19016</td><td>59</td></tr>\n",
       "\t<tr><th scope=row>Alaska Pacific University</th><td>Yes</td><td> 193</td><td> 146</td><td> 55</td><td>16</td><td>44</td><td> 249</td><td> 869</td><td> 7560</td><td>4120</td><td>800</td><td>1500</td><td>76</td><td>72</td><td>11.9</td><td> 2</td><td>10922</td><td>15</td></tr>\n",
       "\t<tr><th scope=row>Albertson College</th><td>Yes</td><td> 587</td><td> 479</td><td>158</td><td>38</td><td>62</td><td> 678</td><td>  41</td><td>13500</td><td>3335</td><td>500</td><td> 675</td><td>67</td><td>73</td><td> 9.4</td><td>11</td><td> 9727</td><td>55</td></tr>\n",
       "</tbody>\n",
       "</table>\n"
      ],
      "text/latex": [
       "A data.frame: 6 × 18\n",
       "\\begin{tabular}{r|llllllllllllllllll}\n",
       "  & Private & Apps & Accept & Enroll & Top10perc & Top25perc & F.Undergrad & P.Undergrad & Outstate & Room.Board & Books & Personal & PhD & Terminal & S.F.Ratio & perc.alumni & Expend & Grad.Rate\\\\\n",
       "  & <fct> & <dbl> & <dbl> & <dbl> & <dbl> & <dbl> & <dbl> & <dbl> & <dbl> & <dbl> & <dbl> & <dbl> & <dbl> & <dbl> & <dbl> & <dbl> & <dbl> & <dbl>\\\\\n",
       "\\hline\n",
       "\tAbilene Christian University & Yes & 1660 & 1232 & 721 & 23 & 52 & 2885 &  537 &  7440 & 3300 & 450 & 2200 & 70 & 78 & 18.1 & 12 &  7041 & 60\\\\\n",
       "\tAdelphi University & Yes & 2186 & 1924 & 512 & 16 & 29 & 2683 & 1227 & 12280 & 6450 & 750 & 1500 & 29 & 30 & 12.2 & 16 & 10527 & 56\\\\\n",
       "\tAdrian College & Yes & 1428 & 1097 & 336 & 22 & 50 & 1036 &   99 & 11250 & 3750 & 400 & 1165 & 53 & 66 & 12.9 & 30 &  8735 & 54\\\\\n",
       "\tAgnes Scott College & Yes &  417 &  349 & 137 & 60 & 89 &  510 &   63 & 12960 & 5450 & 450 &  875 & 92 & 97 &  7.7 & 37 & 19016 & 59\\\\\n",
       "\tAlaska Pacific University & Yes &  193 &  146 &  55 & 16 & 44 &  249 &  869 &  7560 & 4120 & 800 & 1500 & 76 & 72 & 11.9 &  2 & 10922 & 15\\\\\n",
       "\tAlbertson College & Yes &  587 &  479 & 158 & 38 & 62 &  678 &   41 & 13500 & 3335 & 500 &  675 & 67 & 73 &  9.4 & 11 &  9727 & 55\\\\\n",
       "\\end{tabular}\n"
      ],
      "text/markdown": [
       "\n",
       "A data.frame: 6 × 18\n",
       "\n",
       "| <!--/--> | Private &lt;fct&gt; | Apps &lt;dbl&gt; | Accept &lt;dbl&gt; | Enroll &lt;dbl&gt; | Top10perc &lt;dbl&gt; | Top25perc &lt;dbl&gt; | F.Undergrad &lt;dbl&gt; | P.Undergrad &lt;dbl&gt; | Outstate &lt;dbl&gt; | Room.Board &lt;dbl&gt; | Books &lt;dbl&gt; | Personal &lt;dbl&gt; | PhD &lt;dbl&gt; | Terminal &lt;dbl&gt; | S.F.Ratio &lt;dbl&gt; | perc.alumni &lt;dbl&gt; | Expend &lt;dbl&gt; | Grad.Rate &lt;dbl&gt; |\n",
       "|---|---|---|---|---|---|---|---|---|---|---|---|---|---|---|---|---|---|---|\n",
       "| Abilene Christian University | Yes | 1660 | 1232 | 721 | 23 | 52 | 2885 |  537 |  7440 | 3300 | 450 | 2200 | 70 | 78 | 18.1 | 12 |  7041 | 60 |\n",
       "| Adelphi University | Yes | 2186 | 1924 | 512 | 16 | 29 | 2683 | 1227 | 12280 | 6450 | 750 | 1500 | 29 | 30 | 12.2 | 16 | 10527 | 56 |\n",
       "| Adrian College | Yes | 1428 | 1097 | 336 | 22 | 50 | 1036 |   99 | 11250 | 3750 | 400 | 1165 | 53 | 66 | 12.9 | 30 |  8735 | 54 |\n",
       "| Agnes Scott College | Yes |  417 |  349 | 137 | 60 | 89 |  510 |   63 | 12960 | 5450 | 450 |  875 | 92 | 97 |  7.7 | 37 | 19016 | 59 |\n",
       "| Alaska Pacific University | Yes |  193 |  146 |  55 | 16 | 44 |  249 |  869 |  7560 | 4120 | 800 | 1500 | 76 | 72 | 11.9 |  2 | 10922 | 15 |\n",
       "| Albertson College | Yes |  587 |  479 | 158 | 38 | 62 |  678 |   41 | 13500 | 3335 | 500 |  675 | 67 | 73 |  9.4 | 11 |  9727 | 55 |\n",
       "\n"
      ],
      "text/plain": [
       "                             Private Apps Accept Enroll Top10perc Top25perc\n",
       "Abilene Christian University Yes     1660 1232   721    23        52       \n",
       "Adelphi University           Yes     2186 1924   512    16        29       \n",
       "Adrian College               Yes     1428 1097   336    22        50       \n",
       "Agnes Scott College          Yes      417  349   137    60        89       \n",
       "Alaska Pacific University    Yes      193  146    55    16        44       \n",
       "Albertson College            Yes      587  479   158    38        62       \n",
       "                             F.Undergrad P.Undergrad Outstate Room.Board Books\n",
       "Abilene Christian University 2885         537         7440    3300       450  \n",
       "Adelphi University           2683        1227        12280    6450       750  \n",
       "Adrian College               1036          99        11250    3750       400  \n",
       "Agnes Scott College           510          63        12960    5450       450  \n",
       "Alaska Pacific University     249         869         7560    4120       800  \n",
       "Albertson College             678          41        13500    3335       500  \n",
       "                             Personal PhD Terminal S.F.Ratio perc.alumni Expend\n",
       "Abilene Christian University 2200     70  78       18.1      12           7041 \n",
       "Adelphi University           1500     29  30       12.2      16          10527 \n",
       "Adrian College               1165     53  66       12.9      30           8735 \n",
       "Agnes Scott College           875     92  97        7.7      37          19016 \n",
       "Alaska Pacific University    1500     76  72       11.9       2          10922 \n",
       "Albertson College             675     67  73        9.4      11           9727 \n",
       "                             Grad.Rate\n",
       "Abilene Christian University 60       \n",
       "Adelphi University           56       \n",
       "Adrian College               54       \n",
       "Agnes Scott College          59       \n",
       "Alaska Pacific University    15       \n",
       "Albertson College            55       "
      ]
     },
     "metadata": {},
     "output_type": "display_data"
    }
   ],
   "source": [
    "head(College)"
   ]
  },
  {
   "cell_type": "code",
   "execution_count": 49,
   "id": "66d1c477",
   "metadata": {},
   "outputs": [],
   "source": [
    " n = dim(College)[1] "
   ]
  },
  {
   "cell_type": "code",
   "execution_count": 54,
   "id": "287e5aa5",
   "metadata": {},
   "outputs": [],
   "source": [
    "train.size = n / 2"
   ]
  },
  {
   "cell_type": "code",
   "execution_count": 55,
   "id": "c5c370f4",
   "metadata": {},
   "outputs": [],
   "source": [
    "train = sample(1:dim(College)[1], train.size)\n",
    "test = -train\n",
    "College.train = College[train, ]\n",
    "College.test = College[test, ]"
   ]
  },
  {
   "cell_type": "code",
   "execution_count": 56,
   "id": "8bdd5ebc",
   "metadata": {},
   "outputs": [
    {
     "data": {
      "text/html": [
       "1218837.58699549"
      ],
      "text/latex": [
       "1218837.58699549"
      ],
      "text/markdown": [
       "1218837.58699549"
      ],
      "text/plain": [
       "[1] 1218838"
      ]
     },
     "metadata": {},
     "output_type": "display_data"
    }
   ],
   "source": [
    "lm.fit = lm(Apps~., data=College.train)\n",
    "lm.pred = predict(lm.fit, College.test)\n",
    "mean((College.test[, \"Apps\"] - lm.pred)^2)"
   ]
  },
  {
   "cell_type": "code",
   "execution_count": 57,
   "id": "e8a7f646",
   "metadata": {},
   "outputs": [
    {
     "data": {
      "text/html": [
       "0.01"
      ],
      "text/latex": [
       "0.01"
      ],
      "text/markdown": [
       "0.01"
      ],
      "text/plain": [
       "[1] 0.01"
      ]
     },
     "metadata": {},
     "output_type": "display_data"
    }
   ],
   "source": [
    "train.mat = model.matrix(Apps~., data=College.train)\n",
    "test.mat = model.matrix(Apps~., data=College.test)\n",
    "grid = 10 ^ seq(4, -2, length=100)\n",
    "mod.ridge = cv.glmnet(train.mat, College.train[, \"Apps\"], alpha=0, lambda=grid, thresh=1e-12)\n",
    "lambda.best = mod.ridge$lambda.min\n",
    "lambda.best"
   ]
  },
  {
   "cell_type": "code",
   "execution_count": 58,
   "id": "d8e570b8",
   "metadata": {
    "scrolled": true
   },
   "outputs": [
    {
     "data": {
      "text/html": [
       "1218835.49210367"
      ],
      "text/latex": [
       "1218835.49210367"
      ],
      "text/markdown": [
       "1218835.49210367"
      ],
      "text/plain": [
       "[1] 1218835"
      ]
     },
     "metadata": {},
     "output_type": "display_data"
    }
   ],
   "source": [
    "ridge.pred = predict(mod.ridge, newx=test.mat, s=lambda.best)\n",
    "mean((College.test[, \"Apps\"] - ridge.pred)^2)"
   ]
  },
  {
   "cell_type": "code",
   "execution_count": 59,
   "id": "5cd7759e",
   "metadata": {},
   "outputs": [
    {
     "data": {
      "text/html": [
       "132.194114846603"
      ],
      "text/latex": [
       "132.194114846603"
      ],
      "text/markdown": [
       "132.194114846603"
      ],
      "text/plain": [
       "[1] 132.1941"
      ]
     },
     "metadata": {},
     "output_type": "display_data"
    }
   ],
   "source": [
    "mod.lasso = cv.glmnet(train.mat, College.train[, \"Apps\"], alpha=1, lambda=grid, thresh=1e-12)\n",
    "lambda.best = mod.lasso$lambda.min\n",
    "lambda.best"
   ]
  },
  {
   "cell_type": "code",
   "execution_count": 60,
   "id": "77514de5",
   "metadata": {},
   "outputs": [
    {
     "data": {
      "text/html": [
       "1300926.79495818"
      ],
      "text/latex": [
       "1300926.79495818"
      ],
      "text/markdown": [
       "1300926.79495818"
      ],
      "text/plain": [
       "[1] 1300927"
      ]
     },
     "metadata": {},
     "output_type": "display_data"
    }
   ],
   "source": [
    "lasso.pred = predict(mod.lasso, newx=test.mat, s=lambda.best)\n",
    "mean((College.test[, \"Apps\"] - lasso.pred)^2)"
   ]
  },
  {
   "cell_type": "code",
   "execution_count": 61,
   "id": "5cd8e847",
   "metadata": {},
   "outputs": [
    {
     "data": {
      "text/plain": [
       "19 x 1 sparse Matrix of class \"dgCMatrix\"\n",
       "                       s1\n",
       "(Intercept) -716.90277284\n",
       "(Intercept)    .         \n",
       "PrivateYes   -92.66060964\n",
       "Accept         1.38606991\n",
       "Enroll         .         \n",
       "Top10perc     23.02501990\n",
       "Top25perc      .         \n",
       "F.Undergrad    .         \n",
       "P.Undergrad    .         \n",
       "Outstate       .         \n",
       "Room.Board     .         \n",
       "Books          .         \n",
       "Personal       .         \n",
       "PhD            .         \n",
       "Terminal       .         \n",
       "S.F.Ratio      .         \n",
       "perc.alumni    .         \n",
       "Expend         0.03656037\n",
       "Grad.Rate      .         "
      ]
     },
     "metadata": {},
     "output_type": "display_data"
    }
   ],
   "source": [
    "mod.lasso = glmnet(model.matrix(Apps~., data=College), College[, \"Apps\"], alpha=1)\n",
    "predict(mod.lasso, s=lambda.best, type=\"coefficients\")"
   ]
  },
  {
   "cell_type": "markdown",
   "id": "8957acc5",
   "metadata": {},
   "source": [
    "Exercice 9 p 299:"
   ]
  },
  {
   "cell_type": "code",
   "execution_count": 65,
   "id": "3aad0d79",
   "metadata": {},
   "outputs": [],
   "source": [
    "library(MASS)"
   ]
  },
  {
   "cell_type": "code",
   "execution_count": 66,
   "id": "2f4a5d8f",
   "metadata": {},
   "outputs": [
    {
     "name": "stderr",
     "output_type": "stream",
     "text": [
      "The following objects are masked from Boston (pos = 3):\n",
      "\n",
      "    age, black, chas, crim, dis, indus, lstat, medv, nox, ptratio, rad,\n",
      "    rm, tax, zn\n",
      "\n",
      "\n"
     ]
    }
   ],
   "source": [
    "attach(Boston)"
   ]
  },
  {
   "cell_type": "code",
   "execution_count": 67,
   "id": "d35f5bab",
   "metadata": {},
   "outputs": [
    {
     "data": {
      "text/plain": [
       "\n",
       "Call:\n",
       "lm(formula = nox ~ poly(dis, 3), data = Boston)\n",
       "\n",
       "Residuals:\n",
       "      Min        1Q    Median        3Q       Max \n",
       "-0.121130 -0.040619 -0.009738  0.023385  0.194904 \n",
       "\n",
       "Coefficients:\n",
       "               Estimate Std. Error t value Pr(>|t|)    \n",
       "(Intercept)    0.554695   0.002759 201.021  < 2e-16 ***\n",
       "poly(dis, 3)1 -2.003096   0.062071 -32.271  < 2e-16 ***\n",
       "poly(dis, 3)2  0.856330   0.062071  13.796  < 2e-16 ***\n",
       "poly(dis, 3)3 -0.318049   0.062071  -5.124 4.27e-07 ***\n",
       "---\n",
       "Signif. codes:  0 '***' 0.001 '**' 0.01 '*' 0.05 '.' 0.1 ' ' 1\n",
       "\n",
       "Residual standard error: 0.06207 on 502 degrees of freedom\n",
       "Multiple R-squared:  0.7148,\tAdjusted R-squared:  0.7131 \n",
       "F-statistic: 419.3 on 3 and 502 DF,  p-value: < 2.2e-16\n"
      ]
     },
     "metadata": {},
     "output_type": "display_data"
    }
   ],
   "source": [
    "lm.fit = lm(nox ~ poly(dis, 3), data = Boston)\n",
    "summary(lm.fit)"
   ]
  },
  {
   "cell_type": "code",
   "execution_count": 69,
   "id": "0bc7b9a6",
   "metadata": {
    "scrolled": true
   },
   "outputs": [
    {
     "data": {
      "image/png": "[encoded data removed]",
      "text/plain": [
       "plot without title"
      ]
     },
     "metadata": {
      "image/png": {
       "height": 420,
       "width": 420
      }
     },
     "output_type": "display_data"
    }
   ],
   "source": [
    "dislim = range(dis)\n",
    "dis.grid = seq(from = dislim[1], to = dislim[2], by = 0.1)\n",
    "lm.pred = predict(lm.fit, list(dis = dis.grid))\n",
    "plot(nox ~ dis, data = Boston, col = \"black\")\n",
    "lines(dis.grid, lm.pred, col = \"red\", lwd = 2)"
   ]
  },
  {
   "cell_type": "code",
   "execution_count": 70,
   "id": "414b2094",
   "metadata": {},
   "outputs": [
    {
     "data": {
      "text/html": [
       "<style>\n",
       ".list-inline {list-style: none; margin:0; padding: 0}\n",
       ".list-inline>li {display: inline-block}\n",
       ".list-inline>li:not(:last-child)::after {content: \"\\00b7\"; padding: 0 .5ex}\n",
       "</style>\n",
       "<ol class=list-inline><li>2.76856285896928</li><li>2.03526186893526</li><li>1.93410670717907</li><li>1.93298132729859</li><li>1.9152899610843</li><li>1.87825729850816</li><li>1.84948361458298</li><li>1.83562968906769</li><li>1.83333080449159</li><li>1.83217112393134</li></ol>\n"
      ],
      "text/latex": [
       "\\begin{enumerate*}\n",
       "\\item 2.76856285896928\n",
       "\\item 2.03526186893526\n",
       "\\item 1.93410670717907\n",
       "\\item 1.93298132729859\n",
       "\\item 1.9152899610843\n",
       "\\item 1.87825729850816\n",
       "\\item 1.84948361458298\n",
       "\\item 1.83562968906769\n",
       "\\item 1.83333080449159\n",
       "\\item 1.83217112393134\n",
       "\\end{enumerate*}\n"
      ],
      "text/markdown": [
       "1. 2.76856285896928\n",
       "2. 2.03526186893526\n",
       "3. 1.93410670717907\n",
       "4. 1.93298132729859\n",
       "5. 1.9152899610843\n",
       "6. 1.87825729850816\n",
       "7. 1.84948361458298\n",
       "8. 1.83562968906769\n",
       "9. 1.83333080449159\n",
       "10. 1.83217112393134\n",
       "\n",
       "\n"
      ],
      "text/plain": [
       " [1] 2.768563 2.035262 1.934107 1.932981 1.915290 1.878257 1.849484 1.835630\n",
       " [9] 1.833331 1.832171"
      ]
     },
     "metadata": {},
     "output_type": "display_data"
    }
   ],
   "source": [
    "all.rss = rep(NA, 10)\n",
    "for (i in 1:10) {\n",
    "    lm.fit = lm(nox ~ poly(dis, i), data = Boston)\n",
    "    all.rss[i] = sum(lm.fit$residuals^2)\n",
    "}\n",
    "all.rss"
   ]
  },
  {
   "cell_type": "code",
   "execution_count": 71,
   "id": "a3ee34bc",
   "metadata": {},
   "outputs": [
    {
     "data": {
      "image/png": "[encoded data removed]",
      "text/plain": [
       "plot without title"
      ]
     },
     "metadata": {
      "image/png": {
       "height": 420,
       "width": 420
      }
     },
     "output_type": "display_data"
    }
   ],
   "source": [
    "library(boot)\n",
    "all.deltas = rep(NA, 10)\n",
    "for (i in 1:10) {\n",
    "    glm.fit = glm(nox ~ poly(dis, i), data = Boston)\n",
    "    all.deltas[i] = cv.glm(Boston, glm.fit, K = 10)$delta[2]\n",
    "}\n",
    "plot(1:10, all.deltas, xlab = \"Degree\", ylab = \"CV error\", type = \"l\", pch = 20, \n",
    "    lwd = 2)"
   ]
  },
  {
   "cell_type": "code",
   "execution_count": 72,
   "id": "2e57db81",
   "metadata": {},
   "outputs": [
    {
     "data": {
      "text/plain": [
       "\n",
       "Call:\n",
       "lm(formula = nox ~ bs(dis, df = 4, knots = c(4, 7, 11)), data = Boston)\n",
       "\n",
       "Residuals:\n",
       "      Min        1Q    Median        3Q       Max \n",
       "-0.124567 -0.040355 -0.008702  0.024740  0.192920 \n",
       "\n",
       "Coefficients:\n",
       "                                      Estimate Std. Error t value Pr(>|t|)    \n",
       "(Intercept)                            0.73926    0.01331  55.537  < 2e-16 ***\n",
       "bs(dis, df = 4, knots = c(4, 7, 11))1 -0.08861    0.02504  -3.539  0.00044 ***\n",
       "bs(dis, df = 4, knots = c(4, 7, 11))2 -0.31341    0.01680 -18.658  < 2e-16 ***\n",
       "bs(dis, df = 4, knots = c(4, 7, 11))3 -0.26618    0.03147  -8.459 3.00e-16 ***\n",
       "bs(dis, df = 4, knots = c(4, 7, 11))4 -0.39802    0.04647  -8.565  < 2e-16 ***\n",
       "bs(dis, df = 4, knots = c(4, 7, 11))5 -0.25681    0.09001  -2.853  0.00451 ** \n",
       "bs(dis, df = 4, knots = c(4, 7, 11))6 -0.32926    0.06327  -5.204 2.85e-07 ***\n",
       "---\n",
       "Signif. codes:  0 '***' 0.001 '**' 0.01 '*' 0.05 '.' 0.1 ' ' 1\n",
       "\n",
       "Residual standard error: 0.06185 on 499 degrees of freedom\n",
       "Multiple R-squared:  0.7185,\tAdjusted R-squared:  0.7151 \n",
       "F-statistic: 212.3 on 6 and 499 DF,  p-value: < 2.2e-16\n"
      ]
     },
     "metadata": {},
     "output_type": "display_data"
    }
   ],
   "source": [
    "library(splines)\n",
    "sp.fit = lm(nox ~ bs(dis, df = 4, knots = c(4, 7, 11)), data = Boston)\n",
    "summary(sp.fit)"
   ]
  },
  {
   "cell_type": "code",
   "execution_count": 73,
   "id": "14c44e08",
   "metadata": {},
   "outputs": [
    {
     "data": {
      "image/png": "[encoded data removed]",
      "text/plain": [
       "plot without title"
      ]
     },
     "metadata": {
      "image/png": {
       "height": 420,
       "width": 420
      }
     },
     "output_type": "display_data"
    }
   ],
   "source": [
    "sp.pred = predict(sp.fit, list(dis = dis.grid))\n",
    "plot(nox ~ dis, data = Boston, col = \"darkgrey\")\n",
    "lines(dis.grid, sp.pred, col = \"red\", lwd = 2)"
   ]
  },
  {
   "cell_type": "code",
   "execution_count": null,
   "id": "ca6e5c62",
   "metadata": {},
   "outputs": [],
   "source": [
    "Exer"
   ]
  }
 ],
 "metadata": {
  "kernelspec": {
   "display_name": "R",
   "language": "R",
   "name": "ir"
  },
  "language_info": {
   "codemirror_mode": "r",
   "file_extension": ".r",
   "mimetype": "text/x-r-source",
   "name": "R",
   "pygments_lexer": "r",
   "version": "4.0.5"
  }
 },
 "nbformat": 4,
 "nbformat_minor": 5
}

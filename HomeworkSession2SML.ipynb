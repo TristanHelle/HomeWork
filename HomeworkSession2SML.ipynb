{
 "cells": [
  {
   "cell_type": "markdown",
   "id": "11442fe0",
   "metadata": {},
   "source": [
    "#Exercise 2 p 56\n",
    "a) regression, inference \n",
    "n:500 top firms US\n",
    "p:employees, industry, profit\n",
    "\n",
    "b) classification, prediction\n",
    "n:20 products\n",
    "p:price,budget, other variables\n",
    "\n",
    "c) regression, prediction\n",
    "n:52 weeks\n",
    "p:% change US,British and German market"
   ]
  },
  {
   "cell_type": "code",
   "execution_count": null,
   "id": "e82f8792",
   "metadata": {},
   "outputs": [],
   "source": [
    "#Exercice 10\n",
    "#a)\n",
    "library(MASS)\n",
    "?Boston"
   ]
  },
  {
   "cell_type": "code",
   "execution_count": null,
   "id": "cc83ea47",
   "metadata": {},
   "outputs": [],
   "source": [
    "#b)\n",
    "pairs(Boston)"
   ]
  },
  {
   "cell_type": "code",
   "execution_count": null,
   "id": "faeb4ca0",
   "metadata": {},
   "outputs": [],
   "source": [
    "#c)\n",
    "plot(Boston$age, Boston$crim) #we can see that the older the more crimes"
   ]
  },
  {
   "cell_type": "code",
   "execution_count": null,
   "id": "1cb96f3e",
   "metadata": {},
   "outputs": [],
   "source": [
    "plot(Boston$dis, Boston$crim) #we can see that the closer the more crimes"
   ]
  },
  {
   "cell_type": "code",
   "execution_count": null,
   "id": "43e51b09",
   "metadata": {},
   "outputs": [],
   "source": [
    "plot(Boston$rad, Boston$crim) #we can see the that the more access to highways the more crimes"
   ]
  },
  {
   "cell_type": "code",
   "execution_count": null,
   "id": "86ce2f2e",
   "metadata": {},
   "outputs": [],
   "source": [
    "plot(Boston$tax, Boston$crim) #we can see that the higher the tax the more crimeb"
   ]
  },
  {
   "cell_type": "code",
   "execution_count": null,
   "id": "6446025e",
   "metadata": {},
   "outputs": [],
   "source": [
    "plot(Boston$ptratio, Boston$crim) #we can see that the higher the student to teacher ratio the more crimes"
   ]
  },
  {
   "cell_type": "code",
   "execution_count": null,
   "id": "1b4f6154",
   "metadata": {},
   "outputs": [],
   "source": [
    "plot(Boston$black, Boston$crim) #we can see that the higher the black population the higher the crimes "
   ]
  },
  {
   "cell_type": "code",
   "execution_count": null,
   "id": "cba2c88f",
   "metadata": {},
   "outputs": [],
   "source": [
    "#d)\n",
    "\n",
    "hist(Boston$crim[Boston$crim>1]) #most cities have a low crime rate but there are some cities with high and very high crime rates"
   ]
  },
  {
   "cell_type": "code",
   "execution_count": null,
   "id": "de6ac34a",
   "metadata": {},
   "outputs": [],
   "source": [
    "hist(Boston$tax) #we can see 2 categories: ow taxes with the majority of the pop and high taxes with the other part of the population "
   ]
  },
  {
   "cell_type": "code",
   "execution_count": null,
   "id": "5be03710",
   "metadata": {},
   "outputs": [],
   "source": [
    "hist(Boston$ptratio) #we can see a tendency towards the higher ratios but without being too important"
   ]
  },
  {
   "cell_type": "code",
   "execution_count": null,
   "id": "f9e5b117",
   "metadata": {},
   "outputs": [],
   "source": [
    "#e)\n",
    "\n",
    "nrow(subset(Boston, chas == 1))"
   ]
  },
  {
   "cell_type": "code",
   "execution_count": null,
   "id": "76e8da62",
   "metadata": {},
   "outputs": [],
   "source": [
    "#f)\n",
    "\n",
    "median(Boston$ptratio)"
   ]
  },
  {
   "cell_type": "code",
   "execution_count": null,
   "id": "93480d0a",
   "metadata": {},
   "outputs": [],
   "source": [
    "#g)\n",
    "\n",
    "subset(Boston, medv == min(Boston$medv))"
   ]
  },
  {
   "cell_type": "markdown",
   "id": "a432faaa",
   "metadata": {},
   "source": [
    "3. Y = 50 + 20(gpa) + 0.07(iq) + 35(gender) + 0.01(gpa * iq) - 10 (gpa * gender)\n",
    "\n",
    "a)\n",
    "\n",
    "answer 3 because once gpa gets high enough males earn more \n",
    "\n",
    "b)\n",
    "50+20*4+0.07*110+35+0.01(4*110)-10*4=137.1\n",
    "\n",
    "c)\n",
    "wrong we have to check the pvalue (it has to be below 1% or 5% in order to have a relatonship)"
   ]
  },
  {
   "cell_type": "code",
   "execution_count": 6,
   "id": "cff0fd40",
   "metadata": {},
   "outputs": [
    {
     "data": {
      "text/plain": [
       "     Sales          CompPrice       Income        Advertising    \n",
       " Min.   : 0.000   Min.   : 77   Min.   : 21.00   Min.   : 0.000  \n",
       " 1st Qu.: 5.390   1st Qu.:115   1st Qu.: 42.75   1st Qu.: 0.000  \n",
       " Median : 7.490   Median :125   Median : 69.00   Median : 5.000  \n",
       " Mean   : 7.496   Mean   :125   Mean   : 68.66   Mean   : 6.635  \n",
       " 3rd Qu.: 9.320   3rd Qu.:135   3rd Qu.: 91.00   3rd Qu.:12.000  \n",
       " Max.   :16.270   Max.   :175   Max.   :120.00   Max.   :29.000  \n",
       "   Population        Price        ShelveLoc        Age          Education   \n",
       " Min.   : 10.0   Min.   : 24.0   Bad   : 96   Min.   :25.00   Min.   :10.0  \n",
       " 1st Qu.:139.0   1st Qu.:100.0   Good  : 85   1st Qu.:39.75   1st Qu.:12.0  \n",
       " Median :272.0   Median :117.0   Medium:219   Median :54.50   Median :14.0  \n",
       " Mean   :264.8   Mean   :115.8                Mean   :53.32   Mean   :13.9  \n",
       " 3rd Qu.:398.5   3rd Qu.:131.0                3rd Qu.:66.00   3rd Qu.:16.0  \n",
       " Max.   :509.0   Max.   :191.0                Max.   :80.00   Max.   :18.0  \n",
       " Urban       US     \n",
       " No :118   No :142  \n",
       " Yes:282   Yes:258  \n",
       "                    \n",
       "                    \n",
       "                    \n",
       "                    "
      ]
     },
     "metadata": {},
     "output_type": "display_data"
    }
   ],
   "source": [
    "#Exercice 10 p123\n",
    "library(ISLR)\n",
    "summary(Carseats)\n",
    "?Carseats"
   ]
  },
  {
   "cell_type": "code",
   "execution_count": 12,
   "id": "0e9f5804",
   "metadata": {
    "scrolled": true
   },
   "outputs": [
    {
     "name": "stderr",
     "output_type": "stream",
     "text": [
      "The following objects are masked from Carseats (pos = 3):\n",
      "\n",
      "    Advertising, Age, CompPrice, Education, Income, Population, Price,\n",
      "    Sales, ShelveLoc, Urban, US\n",
      "\n",
      "\n",
      "The following objects are masked from Carseats (pos = 4):\n",
      "\n",
      "    Advertising, Age, CompPrice, Education, Income, Population, Price,\n",
      "    Sales, ShelveLoc, Urban, US\n",
      "\n",
      "\n",
      "The following objects are masked from Carseats (pos = 5):\n",
      "\n",
      "    Advertising, Age, CompPrice, Education, Income, Population, Price,\n",
      "    Sales, ShelveLoc, Urban, US\n",
      "\n",
      "\n"
     ]
    },
    {
     "data": {
      "text/plain": [
       "\n",
       "Call:\n",
       "lm(formula = Sales ~ Price + Urban + US)\n",
       "\n",
       "Residuals:\n",
       "    Min      1Q  Median      3Q     Max \n",
       "-6.9206 -1.6220 -0.0564  1.5786  7.0581 \n",
       "\n",
       "Coefficients:\n",
       "             Estimate Std. Error t value Pr(>|t|)    \n",
       "(Intercept) 13.043469   0.651012  20.036  < 2e-16 ***\n",
       "Price       -0.054459   0.005242 -10.389  < 2e-16 ***\n",
       "UrbanYes    -0.021916   0.271650  -0.081    0.936    \n",
       "USYes        1.200573   0.259042   4.635 4.86e-06 ***\n",
       "---\n",
       "Signif. codes:  0 '***' 0.001 '**' 0.01 '*' 0.05 '.' 0.1 ' ' 1\n",
       "\n",
       "Residual standard error: 2.472 on 396 degrees of freedom\n",
       "Multiple R-squared:  0.2393,\tAdjusted R-squared:  0.2335 \n",
       "F-statistic: 41.52 on 3 and 396 DF,  p-value: < 2.2e-16\n"
      ]
     },
     "metadata": {},
     "output_type": "display_data"
    }
   ],
   "source": [
    "attach(Carseats)\n",
    "lm.model = lm(Sales~Price+Urban+US)\n",
    "summary(lm.fit)"
   ]
  },
  {
   "cell_type": "markdown",
   "id": "9913ecf2",
   "metadata": {},
   "source": [
    "we can see that the p value is below 1% for the Price and USYes. Which means that according to the intercept if the price is increasing the sales will decrease. We can also say that iif the store is in the US the store will gain 1200 sales."
   ]
  },
  {
   "cell_type": "markdown",
   "id": "1a06374c",
   "metadata": {},
   "source": [
    "c) Sales =13.0434-0.0544Price-0.0219UrbanYes+1.2005USYes"
   ]
  },
  {
   "cell_type": "markdown",
   "id": "a58c7eec",
   "metadata": {},
   "source": [
    "d) Price and USYes because of the p value assigned to each variable "
   ]
  },
  {
   "cell_type": "code",
   "execution_count": 13,
   "id": "64e56d9b",
   "metadata": {},
   "outputs": [
    {
     "data": {
      "text/plain": [
       "\n",
       "Call:\n",
       "lm(formula = Sales ~ Price + US)\n",
       "\n",
       "Residuals:\n",
       "    Min      1Q  Median      3Q     Max \n",
       "-6.9269 -1.6286 -0.0574  1.5766  7.0515 \n",
       "\n",
       "Coefficients:\n",
       "            Estimate Std. Error t value Pr(>|t|)    \n",
       "(Intercept) 13.03079    0.63098  20.652  < 2e-16 ***\n",
       "Price       -0.05448    0.00523 -10.416  < 2e-16 ***\n",
       "USYes        1.19964    0.25846   4.641 4.71e-06 ***\n",
       "---\n",
       "Signif. codes:  0 '***' 0.001 '**' 0.01 '*' 0.05 '.' 0.1 ' ' 1\n",
       "\n",
       "Residual standard error: 2.469 on 397 degrees of freedom\n",
       "Multiple R-squared:  0.2393,\tAdjusted R-squared:  0.2354 \n",
       "F-statistic: 62.43 on 2 and 397 DF,  p-value: < 2.2e-16\n"
      ]
     },
     "metadata": {},
     "output_type": "display_data"
    }
   ],
   "source": [
    "lm.model2 = lm(Sales ~ Price + US)\n",
    "summary(lm.model2)"
   ]
  },
  {
   "cell_type": "markdown",
   "id": "b7e70a54",
   "metadata": {},
   "source": [
    "f) we can see a very slight increase in the R² which means the second model is best. As the answer is above 0 we can see that the models explain partially the relationships."
   ]
  },
  {
   "cell_type": "code",
   "execution_count": 14,
   "id": "a7537e65",
   "metadata": {
    "scrolled": true
   },
   "outputs": [
    {
     "data": {
      "text/html": [
       "<table class=\"dataframe\">\n",
       "<caption>A matrix: 3 × 2 of type dbl</caption>\n",
       "<thead>\n",
       "\t<tr><th></th><th scope=col>2.5 %</th><th scope=col>97.5 %</th></tr>\n",
       "</thead>\n",
       "<tbody>\n",
       "\t<tr><th scope=row>(Intercept)</th><td>11.79032020</td><td>14.27126531</td></tr>\n",
       "\t<tr><th scope=row>Price</th><td>-0.06475984</td><td>-0.04419543</td></tr>\n",
       "\t<tr><th scope=row>USYes</th><td> 0.69151957</td><td> 1.70776632</td></tr>\n",
       "</tbody>\n",
       "</table>\n"
      ],
      "text/latex": [
       "A matrix: 3 × 2 of type dbl\n",
       "\\begin{tabular}{r|ll}\n",
       "  & 2.5 \\% & 97.5 \\%\\\\\n",
       "\\hline\n",
       "\t(Intercept) & 11.79032020 & 14.27126531\\\\\n",
       "\tPrice & -0.06475984 & -0.04419543\\\\\n",
       "\tUSYes &  0.69151957 &  1.70776632\\\\\n",
       "\\end{tabular}\n"
      ],
      "text/markdown": [
       "\n",
       "A matrix: 3 × 2 of type dbl\n",
       "\n",
       "| <!--/--> | 2.5 % | 97.5 % |\n",
       "|---|---|---|\n",
       "| (Intercept) | 11.79032020 | 14.27126531 |\n",
       "| Price | -0.06475984 | -0.04419543 |\n",
       "| USYes |  0.69151957 |  1.70776632 |\n",
       "\n"
      ],
      "text/plain": [
       "            2.5 %       97.5 %     \n",
       "(Intercept) 11.79032020 14.27126531\n",
       "Price       -0.06475984 -0.04419543\n",
       "USYes        0.69151957  1.70776632"
      ]
     },
     "metadata": {},
     "output_type": "display_data"
    }
   ],
   "source": [
    "confint(lm.model2)"
   ]
  }
 ],
 "metadata": {
  "kernelspec": {
   "display_name": "R",
   "language": "R",
   "name": "ir"
  },
  "language_info": {
   "codemirror_mode": "r",
   "file_extension": ".r",
   "mimetype": "text/x-r-source",
   "name": "R",
   "pygments_lexer": "r",
   "version": "4.0.5"
  }
 },
 "nbformat": 4,
 "nbformat_minor": 5
}
